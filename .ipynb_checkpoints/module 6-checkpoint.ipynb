{
 "cells": [
  {
   "cell_type": "markdown",
   "id": "0d34f02c-a57d-451b-9403-52ea15723663",
   "metadata": {},
   "source": [
    "## 1. Explain the purpose and advantages of NumPy in scientific computing and data analysis. How does it enhance Python's capabilities for numerical operations?"
   ]
  },
  {
   "cell_type": "markdown",
   "id": "f9b804ae-22c8-468b-9ba1-9aee144e0845",
   "metadata": {},
   "source": [
    "NumPy (Numerical Python) is a fundamental package for numerical computing in Python. It provides support for large, multi-dimensional arrays and matrices, along with a collection of mathematical functions to operate on these arrays efficiently.\n",
    "Advantages are:\n",
    "* NumPy provides a powerful ndarray object for multi-dimensional arrays, enabling efficient storage and manipulation of large datasets.\n",
    "* Includes a vast library of mathematical functions optimized for array operations, facilitating complex numerical computations.\n",
    "* NumPy arrays are more memory efficient than Python lists for large datasets, due to their densely packed structure and optimized algorithms.\n",
    "* Operations are implemented in compiled C code, making NumPy significantly faster than equivalent pure Python code."
   ]
  },
  {
   "cell_type": "markdown",
   "id": "381f1726-0138-48d2-94e4-03f8423e28d4",
   "metadata": {},
   "source": []
  },
  {
   "cell_type": "markdown",
   "id": "6132dada-aeba-4c82-8eff-b6856f1e4411",
   "metadata": {},
   "source": [
    "## 2. Compare and contrast np.mean() and np.average() functions in NumPy. When would you use one over the other?"
   ]
  },
  {
   "cell_type": "markdown",
   "id": "12446d19-50c3-4056-becb-e92bb8ef29dd",
   "metadata": {},
   "source": [
    "\n",
    "### np.mean()\n",
    "\n",
    "\n",
    "Usage:\n",
    "   Computes the arithmetic mean of elements in the array `a`.\n",
    "   Works straightforwardly on arrays and can handle multi-dimensional arrays by averaging along specified axes.\n",
    "  -If `axis=None`, computes the mean of the flattened array.\n",
    "\n",
    "Example:\n",
    "  ```python\n",
    "  import numpy as np\n",
    "  \n",
    "  arr = np.array([[1, 2], [3, 4]])\n",
    "  print(np.mean(arr))  # Output: 2.5\n",
    "  ```\n",
    "\n",
    "### np.average()\n",
    "\n",
    "- **Usage:**\n",
    "  - Calculates a weighted average where each element in the array may contribute differently to the average based on the provided weights.\n",
    "  - Useful when certain elements in the array should have more influence on the computed average than others.\n",
    "  - Can be applied to compute weighted averages over specific axes in multi-dimensional arrays.\n",
    "\n",
    "Example:\n",
    "  ```python\n",
    "  import numpy as np\n",
    "  \n",
    "  arr = np.array([1, 2, 3, 4])\n",
    "  weights = np.array([0.1, 0.2, 0.3, 0.4])\n",
    "  \n",
    "  print(np.average(arr, weights=weights))  # Output: 3.0\n",
    "  ```\n",
    "\n",
    "### Comparison and When to Use Each:\n",
    "\n",
    "- **Mean (`np.mean()`):**\n",
    "  - Computes the arithmetic mean of elements in an array.\n",
    "  - Use when you need a straightforward average of values.\n",
    "  - Does not require specifying weights; all elements contribute equally.\n",
    "\n",
    "- **Average (`np.average()`):**\n",
    "  - Computes a weighted average of elements in an array.\n",
    "  - Use when different elements in the array have different importance or weight in the average calculation.\n",
    "  - Allows for specifying weights, which can adjust the influence of each element on the final average.\n",
    "\n"
   ]
  },
  {
   "cell_type": "code",
   "execution_count": null,
   "id": "d163ede0-2eb0-4128-b1de-49cf48e65564",
   "metadata": {},
   "outputs": [],
   "source": []
  },
  {
   "cell_type": "markdown",
   "id": "f48b2aa1-f60e-48bf-b639-3984dcfe19e6",
   "metadata": {},
   "source": [
    "## 3. Describe the methods for reversing a NumPy array along different axes. Provide examples for 1D and 2D arrays."
   ]
  },
  {
   "cell_type": "code",
   "execution_count": 3,
   "id": "f3c174c7-c683-4f9f-86ea-14494f780d16",
   "metadata": {},
   "outputs": [
    {
     "name": "stdout",
     "output_type": "stream",
     "text": [
      "Original 1D Array: ['a' 'b' 'c' 'd' 'e']\n",
      "Reversed 1D Array: ['e' 'd' 'c' 'b' 'a']\n"
     ]
    }
   ],
   "source": [
    "#We reverse arrays using slicing process\n",
    "import numpy as np\n",
    "\n",
    "arr1d = np.array(['a','b','c','d','e'])\n",
    "\n",
    "# Reverse the 1D array\n",
    "reversed_arr1d = arr1d[::-1]\n",
    "\n",
    "print(\"Original 1D Array:\", arr1d)\n",
    "print(\"Reversed 1D Array:\", reversed_arr1d)\n"
   ]
  },
  {
   "cell_type": "code",
   "execution_count": 4,
   "id": "e5c3d72b-9246-43db-a22f-2144ed23052e",
   "metadata": {},
   "outputs": [
    {
     "name": "stdout",
     "output_type": "stream",
     "text": [
      "Original 2D Array:\n",
      "[[1 2 3]\n",
      " [4 5 6]\n",
      " [7 8 9]]\n",
      "\n",
      "Reversed 2D Array along Rows:\n",
      "[[7 8 9]\n",
      " [4 5 6]\n",
      " [1 2 3]]\n"
     ]
    }
   ],
   "source": [
    "\n",
    "## reversing 2D array along rows\n",
    "import numpy as np\n",
    "\n",
    "arr2d = np.array([[1, 2, 3],\n",
    "                  [4, 5, 6],\n",
    "                  [7, 8, 9]])\n",
    "\n",
    "# Reverse the 2D array along rows (axis 0)\n",
    "reversed_arr2d_rows = arr2d[::-1, :]\n",
    "\n",
    "print(\"Original 2D Array:\")\n",
    "print(arr2d)\n",
    "print(\"\\nReversed 2D Array along Rows:\")\n",
    "print(reversed_arr2d_rows)\n"
   ]
  },
  {
   "cell_type": "code",
   "execution_count": 5,
   "id": "93fae1d9-b7fe-4553-b381-7e3fff87359d",
   "metadata": {},
   "outputs": [
    {
     "name": "stdout",
     "output_type": "stream",
     "text": [
      "Original 2D Array:\n",
      "[[1 2 3]\n",
      " [4 5 6]\n",
      " [7 8 9]]\n",
      "\n",
      "Reversed 2D Array along Columns:\n",
      "[[3 2 1]\n",
      " [6 5 4]\n",
      " [9 8 7]]\n"
     ]
    }
   ],
   "source": [
    "## reversing 2D array along columns\n",
    "import numpy as np\n",
    "\n",
    "arr2d = np.array([[1, 2, 3],\n",
    "                  [4, 5, 6],\n",
    "                  [7, 8, 9]])\n",
    "\n",
    "# Reverse the 2D array along columns (axis 1)\n",
    "reversed_arr2d_cols = arr2d[:, ::-1]\n",
    "\n",
    "print(\"Original 2D Array:\")\n",
    "print(arr2d)\n",
    "print(\"\\nReversed 2D Array along Columns:\")\n",
    "print(reversed_arr2d_cols)\n"
   ]
  },
  {
   "cell_type": "code",
   "execution_count": null,
   "id": "cb769646-1a9b-4f72-9fa0-bdaf4fd9c479",
   "metadata": {},
   "outputs": [],
   "source": []
  },
  {
   "cell_type": "markdown",
   "id": "ea9775d9-1b7b-4888-882b-cae2e2864ef2",
   "metadata": {},
   "source": [
    "## 4. How can you determine the data type of elements in a NumPy array? Discuss the importance of data types in memory management and performance."
   ]
  },
  {
   "cell_type": "code",
   "execution_count": 8,
   "id": "cf6a195d-55a1-4058-b98b-1164350a7038",
   "metadata": {},
   "outputs": [
    {
     "name": "stdout",
     "output_type": "stream",
     "text": [
      "The data type is <U1\n"
     ]
    }
   ],
   "source": [
    "## Determing the data type in Numpy\n",
    "\n",
    "import numpy as  npp\n",
    "arr = npp.array(['a','b','c','d','e'])\n",
    "dtype = arr.dtype\n",
    "\n",
    "print(\"The data type is\",dtype)"
   ]
  },
  {
   "cell_type": "markdown",
   "id": "f959b4a7-371b-469d-92eb-f0cf3dd2a3ab",
   "metadata": {},
   "source": [
    "Importance of Data Types\n",
    "Memory Management:\n",
    "\n",
    "- Data types dictate how much memory each element occupies. Choosing appropriate types (e.g., int32 vs float64) can significantly reduce memory usage, crucial for large datasets.Homogeneous data types in NumPy arrays allow for efficient memory allocation and access patterns.\n",
    "\n",
    "- Performance:Data types influence the execution speed of operations. Operations on smaller data types (e.g., int32) are generally faster than on larger types (float64).NumPy operations are optimized for specific data types, ensuring efficient vectorized computations."
   ]
  },
  {
   "cell_type": "code",
   "execution_count": null,
   "id": "0c856ed9-18b4-4728-acb3-0c6d1522f974",
   "metadata": {},
   "outputs": [],
   "source": []
  },
  {
   "cell_type": "markdown",
   "id": "f4972aaf-b54e-4d88-8bac-97d383448075",
   "metadata": {},
   "source": [
    "## 5. Define ndarrays in NumPy and explain their key features. How do they differ from standard Python lists?"
   ]
  },
  {
   "cell_type": "markdown",
   "id": "850430b6-eb75-4c2d-b0ec-f0eecf86e7b2",
   "metadata": {},
   "source": [
    " ndarrays (n-dimensional arrays) in NumPy are data structures that store multi-dimensional arrays of homogeneous data types efficiently.\n",
    " \n",
    "- Multi-dimensional: ndarrays can have multiple dimensions (1D, 2D, etc.), suitable for representing complex data structures like matrices.\n",
    "\n",
    "- Homogeneous Data Types: All elements in an ndarray must have the same data type, ensuring efficient memory usage and optimized operations.\n",
    "\n",
    "- Efficient Storage and Computation: ndarrays are stored in contiguous memory blocks, allowing fast access and efficient vectorized operations.\n",
    "\n",
    "- Broadcasting: Supports broadcasting for operations on arrays of different shapes without explicit looping.\n",
    "\n",
    "- Universal Functions (ufuncs): NumPy provides mathematical functions optimized for ndarrays, operating element-wise across arrays.\n",
    "\n",
    "### Difference between List and Array:\n",
    "- Homogeneity: ndarrays require uniform data types, whereas Python lists can hold elements of different types.\n",
    "\n",
    "- Efficiency: ndarrays are more memory efficient and faster for numerical computations due to their specialized storage and optimized operations.\n",
    "\n",
    "- Functionality: NumPy arrays offer extensive mathematical functions and operations compared to Python lists, which are general-purpose."
   ]
  },
  {
   "cell_type": "code",
   "execution_count": 10,
   "id": "363e1ec9-ac75-4c7c-8206-f2b574d5080d",
   "metadata": {},
   "outputs": [
    {
     "name": "stdout",
     "output_type": "stream",
     "text": [
      "4\n",
      "15\n"
     ]
    }
   ],
   "source": [
    "import numpy as np\n",
    "\n",
    "# Creating a NumPy array\n",
    "arr = np.array([1, 2, 3, 4, 5])\n",
    "\n",
    "# Accessing elements and performing operations\n",
    "print(arr[3])  # Accessing an element\n",
    "print(arr.sum())  # Calculating sum of elements\n"
   ]
  },
  {
   "cell_type": "code",
   "execution_count": null,
   "id": "ec9d83af-31ee-490c-83db-73c6f65ab7a3",
   "metadata": {},
   "outputs": [],
   "source": []
  },
  {
   "cell_type": "markdown",
   "id": "2755815e-d2ce-4600-bbfc-bd8debfee0fc",
   "metadata": {},
   "source": [
    "## 6. Analyze the performance benefits of NumPy arrays over Python lists for large-scale numerical operations."
   ]
  },
  {
   "cell_type": "markdown",
   "id": "79e30e7e-8195-4fec-acdc-0bfd935b9563",
   "metadata": {},
   "source": [
    "NumPy arrays outperform Python lists significantly for large-scale numerical operations due to their optimized storage, efficient operations, and broad library support. They are essential for tasks requiring high-performance computing, such as scientific computing, data analysis, and machine learning.\n",
    "\n",
    "\n",
    "- NumPy Arrays: Contiguous memory allocation allows efficient storage and access, reducing overhead compared to Python lists which store pointers to objects.\n",
    "- Python Lists: Each element is a full Python object with additional memory overhead, making them less efficient for large datasets.\n",
    " \n",
    "\n",
    "- NumPy Arrays: Operations are optimized and vectorized, implemented in compiled C code. This results in faster execution times for numerical computations.\n",
    "- Python Lists: Operations require explicit looping in Python, which is slower compared to NumPy's optimized operations.\n",
    "\n",
    "\n",
    "- NumPy Arrays: Support element-wise operations and broadcasting, simplifying code and reducing the need for explicit loops.\n",
    "- Python Lists: Operations often require manual iteration over elements, leading to more verbose code and slower execution times.\n",
    "\n",
    "- NumPy Arrays: Integrated with a wide range of libraries (e.g., SciPy, pandas, scikit-learn) for scientific computing and data analysis, ensuring compatibility and optimized performance.\n",
    "- Python Lists: More limited in terms of specialized numerical operations and library support, often requiring custom implementations for complex tasks.\n"
   ]
  },
  {
   "cell_type": "code",
   "execution_count": null,
   "id": "3ae2bb77-946e-49d8-b7bb-10b4d5f36f01",
   "metadata": {},
   "outputs": [],
   "source": []
  },
  {
   "cell_type": "markdown",
   "id": "b0a05c68-3dc7-4599-8b95-ced99cd6ae8c",
   "metadata": {},
   "source": [
    "## 7. Compare vstack() and hstack() functions in NumPy. Provide examples demonstrating their usage and  output."
   ]
  },
  {
   "cell_type": "markdown",
   "id": "65f377ce-154f-4ca7-8613-435e68f96f7d",
   "metadata": {},
   "source": [
    "The vstack() function in NumPy is used to vertically stack arrays, meaning it stacks arrays on top of each other along the vertical axis.\n",
    "\n",
    "The hstack() function, on the other hand, horizontally stacks arrays, meaning it concatenates arrays side by side along the horizontal axis."
   ]
  },
  {
   "cell_type": "code",
   "execution_count": 4,
   "id": "c5776bae-e284-4078-a356-b021c6751660",
   "metadata": {},
   "outputs": [
    {
     "name": "stdout",
     "output_type": "stream",
     "text": [
      "[['a' 'b' 'c']\n",
      " ['d' 'e' 'f']\n",
      " ['@' '#' '$']]\n"
     ]
    }
   ],
   "source": [
    "#code for vstack()\n",
    "import numpy as np\n",
    "\n",
    "# Create two arrays\n",
    "array1 = np.array([['a','b','c'],\n",
    "                   ['d','e','f']])\n",
    "\n",
    "array2 = np.array([['@','#','$']])\n",
    "\n",
    "# Vertically stack the arrays\n",
    "result = np.vstack((array1, array2))\n",
    "\n",
    "print(result)\n"
   ]
  },
  {
   "cell_type": "code",
   "execution_count": 5,
   "id": "59570099-4862-4d21-9ed1-137b9e25acab",
   "metadata": {},
   "outputs": [
    {
     "name": "stdout",
     "output_type": "stream",
     "text": [
      "[[1 2 5]\n",
      " [3 4 6]]\n"
     ]
    }
   ],
   "source": [
    "#code for vstack()\n",
    "import numpy as np\n",
    "\n",
    "# Create two arrays\n",
    "array1 = np.array([[1, 2],\n",
    "                   [3, 4]])\n",
    "\n",
    "array2 = np.array([[5],\n",
    "                   [6]])\n",
    "\n",
    "# Horizontally stack the arrays\n",
    "result = np.hstack((array1, array2))\n",
    "\n",
    "print(result)"
   ]
  },
  {
   "cell_type": "code",
   "execution_count": null,
   "id": "402361c3-4d33-427f-a64e-10a85f306e3b",
   "metadata": {},
   "outputs": [],
   "source": []
  },
  {
   "cell_type": "code",
   "execution_count": null,
   "id": "bc8a620f-7460-4274-a7b0-cb83d5174a01",
   "metadata": {},
   "outputs": [],
   "source": []
  },
  {
   "cell_type": "markdown",
   "id": "9a7a782a-02b5-4e21-96f8-4f35b4d0ba85",
   "metadata": {},
   "source": [
    "## 8. Explain the differences between fliplr() and flipud() methods in NumPy, including their effects on various array dimensions."
   ]
  },
  {
   "cell_type": "code",
   "execution_count": 18,
   "id": "a35b6464-911c-48b7-a8a8-1aaca63d2322",
   "metadata": {},
   "outputs": [
    {
     "name": "stdout",
     "output_type": "stream",
     "text": [
      "Original 2D Array:\n",
      "[[1 2 3]\n",
      " [4 5 6]]\n",
      "\n",
      "Flipped Left-Right:\n",
      "[[3 2 1]\n",
      " [6 5 4]]\n"
     ]
    }
   ],
   "source": [
    "# example of fliplr() methode\n",
    "\n",
    "import numpy as np\n",
    "\n",
    "arr2d = np.array([[1, 2, 3],\n",
    "                  [4, 5, 6]])\n",
    "\n",
    "flipped_arr = np.fliplr(arr2d)\n",
    "\n",
    "print(\"Original 2D Array:\")\n",
    "print(arr2d)\n",
    "\n",
    "print(\"\\nFlipped Left-Right:\")\n",
    "print(flipped_arr)\n"
   ]
  },
  {
   "cell_type": "code",
   "execution_count": 19,
   "id": "4429a8b9-ec1c-4c89-8559-93a9af7dff93",
   "metadata": {},
   "outputs": [
    {
     "name": "stdout",
     "output_type": "stream",
     "text": [
      "Original 2D Array:\n",
      "[[1 2 3]\n",
      " [4 5 6]]\n",
      "\n",
      "Flipped Up-Down:\n",
      "[[4 5 6]\n",
      " [1 2 3]]\n"
     ]
    }
   ],
   "source": [
    "# example of flipud() methode\n",
    "import numpy as np\n",
    "\n",
    "arr2d = np.array([[1, 2, 3],\n",
    "                  [4, 5, 6]])\n",
    "\n",
    "flipped_arr = np.flipud(arr2d)\n",
    "\n",
    "print(\"Original 2D Array:\")\n",
    "print(arr2d)\n",
    "\n",
    "print(\"\\nFlipped Up-Down:\")\n",
    "print(flipped_arr)\n"
   ]
  },
  {
   "cell_type": "markdown",
   "id": "ef8219c8-2682-4909-b98d-d4ffc8f8c20b",
   "metadata": {
    "jupyter": {
     "source_hidden": true
    },
    "tags": []
   },
   "source": [
    "#### Axis of Operation:\n",
    "\n",
    "- fliplr() operates on columns (horizontal flip).\n",
    "- flipud() operates on rows (vertical flip).\n",
    "\n",
    "#### Usage:\n",
    "\n",
    "- Use fliplr() when you need to reverse the order of columns.\n",
    "- Use flipud() when you need to reverse the order of rows."
   ]
  },
  {
   "cell_type": "code",
   "execution_count": null,
   "id": "9a927058-ef7f-4999-a5b9-ac6afdd1bf61",
   "metadata": {},
   "outputs": [],
   "source": []
  },
  {
   "cell_type": "markdown",
   "id": "9d6fba7a-af6b-4b11-b87a-25361cb84bc9",
   "metadata": {},
   "source": [
    "### 9. Discuss the functionality of the array_split() method in NumPy. How does it handle uneven splits?"
   ]
  },
  {
   "cell_type": "code",
   "execution_count": null,
   "id": "873548e8-9279-4fc8-83e7-e38555ab256b",
   "metadata": {},
   "outputs": [],
   "source": []
  },
  {
   "cell_type": "code",
   "execution_count": null,
   "id": "78ab3df1-66f2-4cd0-baf0-c2d9f32c270e",
   "metadata": {},
   "outputs": [],
   "source": []
  },
  {
   "cell_type": "markdown",
   "id": "70e8317f-57ba-4597-8b6b-3de4834ad44a",
   "metadata": {},
   "source": [
    "### 10. Explain the concepts of vectorization and broadcasting in NumPy. How do they contribute to efficient array operations?"
   ]
  },
  {
   "cell_type": "markdown",
   "id": "927a8d71-89a8-4336-9715-5f889cd8107b",
   "metadata": {},
   "source": [
    "#### Vectorization:\n",
    "Vectorization in NumPy refers to the process of applying operations to entire arrays (or matrices) instead of individual elements. It leverages the capabilities of modern CPUs and GPUs that can perform parallel operations on multiple data elements simultaneously.\n",
    "\n",
    "- Vectorized operations are implemented in compiled C code under the hood in NumPy, making them much faster than equivalent operations implemented in pure Python.\n",
    "\n",
    "- Vectorized code tends to be more concise and easier to read, as it eliminates the need for explicit looping constructs."
   ]
  },
  {
   "cell_type": "code",
   "execution_count": 14,
   "id": "ec6cc70c-23ac-4381-abc3-4ab191b90159",
   "metadata": {},
   "outputs": [
    {
     "name": "stdout",
     "output_type": "stream",
     "text": [
      "[ 6  8 10 12]\n"
     ]
    }
   ],
   "source": [
    "import numpy as np\n",
    "\n",
    "# Example of vectorized addition\n",
    "a = np.array([1, 2, 3, 4])\n",
    "b = np.array([5, 6, 7, 8])\n",
    "\n",
    "c = a + b  \n",
    "print(c) \n"
   ]
  },
  {
   "cell_type": "markdown",
   "id": "517b6148-386e-4b95-a84f-44d4babc7314",
   "metadata": {},
   "source": [
    "#### Broadcasting \n",
    "\n",
    "is another powerful feature in NumPy that allows arrays of different shapes to be combined together for operations. It extends the capabilities of vectorized operations by implicitly replicating values as needed to perform compatible operations."
   ]
  },
  {
   "cell_type": "code",
   "execution_count": 16,
   "id": "76e6617c-a912-40ca-ac18-6ba42ca39a20",
   "metadata": {},
   "outputs": [
    {
     "data": {
      "text/plain": [
       "array([[0., 0., 0., 0.],\n",
       "       [0., 0., 0., 0.],\n",
       "       [0., 0., 0., 0.]])"
      ]
     },
     "execution_count": 16,
     "metadata": {},
     "output_type": "execute_result"
    }
   ],
   "source": [
    "arr = np.zeros((3, 4))\n",
    "arr"
   ]
  },
  {
   "cell_type": "code",
   "execution_count": 17,
   "id": "8704c931-a4c9-4137-b720-125fc5717e48",
   "metadata": {},
   "outputs": [
    {
     "data": {
      "text/plain": [
       "array([[5., 5., 5., 5.],\n",
       "       [5., 5., 5., 5.],\n",
       "       [5., 5., 5., 5.]])"
      ]
     },
     "execution_count": 17,
     "metadata": {},
     "output_type": "execute_result"
    }
   ],
   "source": [
    "arr + 5"
   ]
  },
  {
   "cell_type": "code",
   "execution_count": null,
   "id": "7b07f87b-de88-430c-8467-94cc2eca4808",
   "metadata": {},
   "outputs": [],
   "source": []
  },
  {
   "cell_type": "code",
   "execution_count": null,
   "id": "5551f95f-413b-444e-a840-58cabb7febaa",
   "metadata": {},
   "outputs": [],
   "source": []
  },
  {
   "cell_type": "markdown",
   "id": "52823e56-483c-4a03-a8ad-fcc969bc1c02",
   "metadata": {},
   "source": [
    "# Practical questions"
   ]
  },
  {
   "cell_type": "markdown",
   "id": "d68e7021-20ed-4f7b-a6d4-9546cd40fb9a",
   "metadata": {},
   "source": [
    "## 1. Create a 3x3 NumPy array with random integers between 1 and 100. Then, interchange its rows and columns."
   ]
  },
  {
   "cell_type": "code",
   "execution_count": 32,
   "id": "0742b766-626d-44d0-b134-489605a4a3ff",
   "metadata": {},
   "outputs": [
    {
     "name": "stdout",
     "output_type": "stream",
     "text": [
      "Original Array:\n",
      "[[22 88 62]\n",
      " [14  1 44]\n",
      " [27 89 54]]\n",
      "\n",
      "Transposed Array (Interchanged rows and columns):\n",
      "[[22 14 27]\n",
      " [88  1 89]\n",
      " [62 44 54]]\n"
     ]
    }
   ],
   "source": [
    "## Solution\n",
    "import numpy as np\n",
    "\n",
    "\n",
    "arr = np.random.randint(1, 101,(3, 3))\n",
    "\n",
    "print(\"Original Array:\")\n",
    "print(arr)\n",
    "\n",
    "transposed_arr = np.transpose(arr)\n",
    "\n",
    "print(\"\\nTransposed Array (Interchanged rows and columns):\")\n",
    "print(transposed_arr)\n"
   ]
  },
  {
   "cell_type": "code",
   "execution_count": null,
   "id": "441a39f0-7a4b-4d97-819d-73b361ffa6b0",
   "metadata": {},
   "outputs": [],
   "source": []
  },
  {
   "cell_type": "markdown",
   "id": "c64c04c2-f0b1-428b-8542-18cb03e3c24c",
   "metadata": {},
   "source": [
    "### 2. Generate a 1D NumPy array with 10 elements. Reshape it into a 2x5 array, then into a 5x2 array."
   ]
  },
  {
   "cell_type": "code",
   "execution_count": 38,
   "id": "68d43752-301d-4d80-b62a-c51540e9a6c8",
   "metadata": {},
   "outputs": [
    {
     "name": "stdout",
     "output_type": "stream",
     "text": [
      "1D Array:\n",
      "[0 1 2 3 4 5 6 7 8 9]\n",
      "\n",
      "Reshaped into a 2x5 Array:\n",
      "[[0 1 2 3 4]\n",
      " [5 6 7 8 9]]\n",
      "\n",
      "Reshaped into a 5x2 Array:\n",
      "[[0 1]\n",
      " [2 3]\n",
      " [4 5]\n",
      " [6 7]\n",
      " [8 9]]\n"
     ]
    }
   ],
   "source": [
    "import numpy as np\n",
    "\n",
    "\n",
    "arr1 = np.arange(10)  \n",
    "\n",
    "print(\"1D Array:\")\n",
    "print(arr1)\n",
    "\n",
    "# Step 2: Reshape into a 2x5 array\n",
    "arr2x5 = arr1.reshape(2, 5)\n",
    "\n",
    "print(\"\\nReshaped into a 2x5 Array:\")\n",
    "print(arr2x5)\n",
    "\n",
    "# Step 3: Reshape into a 5x2 array\n",
    "arr5x2 = arr2x5.reshape(5, 2)\n",
    "\n",
    "print(\"\\nReshaped into a 5x2 Array:\")\n",
    "print(arr5x2)\n"
   ]
  },
  {
   "cell_type": "code",
   "execution_count": null,
   "id": "7016bd5e-8ad1-4211-be19-bf6fedd652a7",
   "metadata": {},
   "outputs": [],
   "source": []
  },
  {
   "cell_type": "markdown",
   "id": "558c75c4-895f-44cc-8120-e5061c3d142c",
   "metadata": {},
   "source": [
    "## 3. Create a 4x4 NumPy array with random float values. Add a border of zeros around it, resulting in a 6x6 array."
   ]
  },
  {
   "cell_type": "code",
   "execution_count": 39,
   "id": "46ad1c2d-7f00-42fa-9f2e-bf47c09046f0",
   "metadata": {},
   "outputs": [
    {
     "name": "stdout",
     "output_type": "stream",
     "text": [
      "4x4 Array with random float values:\n",
      "[[0.1031068  0.71205122 0.89616746 0.03332514]\n",
      " [0.58556953 0.05724964 0.66483989 0.54340731]\n",
      " [0.8780014  0.39899338 0.07926261 0.02078016]\n",
      " [0.62087352 0.71824479 0.47985442 0.25644636]]\n",
      "\n",
      "6x6 Array with zeros border:\n",
      "[[0.         0.         0.         0.         0.         0.        ]\n",
      " [0.         0.1031068  0.71205122 0.89616746 0.03332514 0.        ]\n",
      " [0.         0.58556953 0.05724964 0.66483989 0.54340731 0.        ]\n",
      " [0.         0.8780014  0.39899338 0.07926261 0.02078016 0.        ]\n",
      " [0.         0.62087352 0.71824479 0.47985442 0.25644636 0.        ]\n",
      " [0.         0.         0.         0.         0.         0.        ]]\n"
     ]
    }
   ],
   "source": [
    "import numpy as np\n",
    "\n",
    "# Step 1: Create a 4x4 NumPy array with random float values\n",
    "arr_4x4 = np.random.rand(4, 4)\n",
    "\n",
    "print(\"4x4 Array with random float values:\")\n",
    "print(arr_4x4)\n",
    "\n",
    "# Step 2: Add a border of zeros around the 4x4 array to make it 6x6\n",
    "# Initialize a 6x6 array filled with zeros\n",
    "arr_6x6 = np.zeros((6, 6))\n",
    "\n",
    "# Place the 4x4 array in the center of the 6x6 array\n",
    "arr_6x6[1:5, 1:5] = arr_4x4\n",
    "\n",
    "print(\"\\n6x6 Array with zeros border:\")\n",
    "print(arr_6x6)\n"
   ]
  },
  {
   "cell_type": "code",
   "execution_count": null,
   "id": "7e6b5677-4ac3-4c91-b804-1f9df46d756f",
   "metadata": {},
   "outputs": [],
   "source": []
  },
  {
   "cell_type": "markdown",
   "id": "aff3b2d1-600d-4be1-8243-2a6d7f7dfb77",
   "metadata": {},
   "source": [
    "## 4. Using NumPy, create an array of integers from 10 to 60 with a step of 5."
   ]
  },
  {
   "cell_type": "code",
   "execution_count": 7,
   "id": "a1c38f9a-d639-4c77-88d0-e0350526aac9",
   "metadata": {},
   "outputs": [
    {
     "name": "stdout",
     "output_type": "stream",
     "text": [
      "[10 15 20 25 30 35 40 45 50 55 60]\n"
     ]
    }
   ],
   "source": [
    "## code \n",
    "import numpy as np\n",
    "\n",
    "\n",
    "array = np.arange(10, 61, 5)\n",
    "\n",
    "print(array)"
   ]
  },
  {
   "cell_type": "code",
   "execution_count": null,
   "id": "49b1571e-1668-43f3-81be-6c1479a0bc89",
   "metadata": {},
   "outputs": [],
   "source": []
  },
  {
   "cell_type": "markdown",
   "id": "46ef00b8-6881-4318-b487-709b413305de",
   "metadata": {},
   "source": [
    "##  5.  Create a NumPy array of strings ['python', 'numpy', 'pandas']. Apply different case transformations (uppercase, lowercase, title case, etc.) to each element."
   ]
  },
  {
   "cell_type": "code",
   "execution_count": 8,
   "id": "773cac50-3d1b-4013-8875-71dba8263a6a",
   "metadata": {},
   "outputs": [
    {
     "name": "stdout",
     "output_type": "stream",
     "text": [
      "Original Array: ['python' 'numpy' 'pandas']\n",
      "Uppercase Array: ['PYTHON' 'NUMPY' 'PANDAS']\n",
      "Lowercase Array: ['python' 'numpy' 'pandas']\n",
      "Titlecase Array: ['Python' 'Numpy' 'Pandas']\n",
      "Capitalize Array: ['Python' 'Numpy' 'Pandas']\n"
     ]
    }
   ],
   "source": [
    "## code \n",
    "import numpy as np\n",
    "\n",
    "# Create a NumPy array of strings\n",
    "array = np.array(['python', 'numpy', 'pandas'])\n",
    "\n",
    "# Apply different case transformations\n",
    "uppercase_array = np.char.upper(array)\n",
    "lowercase_array = np.char.lower(array)\n",
    "titlecase_array = np.char.title(array)\n",
    "capitalize_array = np.char.capitalize(array)\n",
    "\n",
    "print(\"Original Array:\", array)\n",
    "print(\"Uppercase Array:\", uppercase_array)\n",
    "print(\"Lowercase Array:\", lowercase_array)\n",
    "print(\"Titlecase Array:\", titlecase_array)\n",
    "print(\"Capitalize Array:\", capitalize_array)"
   ]
  },
  {
   "cell_type": "markdown",
   "id": "aa841133-e198-4309-a788-751ae041581b",
   "metadata": {},
   "source": []
  },
  {
   "cell_type": "markdown",
   "id": "afa26d9a-d81c-481e-84a6-786ac3f2002e",
   "metadata": {},
   "source": [
    "## 6. Generate a NumPy array of words. Insert a space between each character of every word in the array."
   ]
  },
  {
   "cell_type": "code",
   "execution_count": null,
   "id": "aa564db1-89c3-4836-80ee-f5286ae44988",
   "metadata": {},
   "outputs": [],
   "source": []
  },
  {
   "cell_type": "code",
   "execution_count": null,
   "id": "4ad6521b-b3f2-4d91-b04e-f99357f6b425",
   "metadata": {},
   "outputs": [],
   "source": []
  },
  {
   "cell_type": "markdown",
   "id": "e24f7e01-7f15-4c79-8d0d-4055f20a8383",
   "metadata": {},
   "source": [
    "## 7. Create two 2D NumPy arrays and perform element-wise addition, subtraction, multiplication, and division."
   ]
  },
  {
   "cell_type": "code",
   "execution_count": 9,
   "id": "52954287-6b91-44d2-9495-62c096e94eea",
   "metadata": {},
   "outputs": [
    {
     "name": "stdout",
     "output_type": "stream",
     "text": [
      "Element-wise Addition:\n",
      "[[ 600  800]\n",
      " [1000 1200]]\n",
      "\n",
      "Element-wise Subtraction:\n",
      "[[-400 -400]\n",
      " [-400 -400]]\n",
      "\n",
      "Element-wise Multiplication:\n",
      "[[ 50000 120000]\n",
      " [210000 320000]]\n",
      "\n",
      "Element-wise Division:\n",
      "[[0.2        0.33333333]\n",
      " [0.42857143 0.5       ]]\n"
     ]
    }
   ],
   "source": [
    "## code\n",
    "import numpy as np\n",
    "\n",
    "# Create two 2D NumPy arrays\n",
    "array1 = np.array([[100, 200], [300, 400]])\n",
    "array2 = np.array([[500, 600], [700, 800]])\n",
    "\n",
    "# Perform element-wise operations\n",
    "add = array1 + array2\n",
    "difference = array1 - array2\n",
    "prod = array1 * array2\n",
    "div = array1 / array2\n",
    "\n",
    "print(\"Element-wise Addition:\")\n",
    "print(add)\n",
    "\n",
    "print(\"\\nElement-wise Subtraction:\")\n",
    "print(difference)\n",
    "\n",
    "print(\"\\nElement-wise Multiplication:\")\n",
    "print(prod)\n",
    "\n",
    "print(\"\\nElement-wise Division:\")\n",
    "print(div)"
   ]
  },
  {
   "cell_type": "code",
   "execution_count": null,
   "id": "3e16fb12-1d1b-49b3-8e71-9b67989013af",
   "metadata": {},
   "outputs": [],
   "source": []
  },
  {
   "cell_type": "markdown",
   "id": "92e1f361-6737-499a-91ee-beda433bd4a2",
   "metadata": {},
   "source": [
    "## 8. Use NumPy to create a 5x5 identity matrix, then extract its diagonal elements."
   ]
  },
  {
   "cell_type": "code",
   "execution_count": 10,
   "id": "327d3c46-9a1c-49c0-a704-5009e99a2c5c",
   "metadata": {},
   "outputs": [
    {
     "name": "stdout",
     "output_type": "stream",
     "text": [
      "Identity Matrix:\n",
      "[[1. 0. 0. 0. 0.]\n",
      " [0. 1. 0. 0. 0.]\n",
      " [0. 0. 1. 0. 0.]\n",
      " [0. 0. 0. 1. 0.]\n",
      " [0. 0. 0. 0. 1.]]\n",
      "\n",
      "Diagonal Elements:\n",
      "[1. 1. 1. 1. 1.]\n"
     ]
    }
   ],
   "source": [
    "## code\n",
    "import numpy as np\n",
    "\n",
    "# Create a 5x5 identity matrix\n",
    "identity_matrix = np.eye(5)\n",
    "\n",
    "# Extract the diagonal elements\n",
    "diagonal_elements = np.diag(identity_matrix)\n",
    "\n",
    "print(\"Identity Matrix:\")\n",
    "print(identity_matrix)\n",
    "\n",
    "print(\"\\nDiagonal Elements:\")\n",
    "print(diagonal_elements)"
   ]
  },
  {
   "cell_type": "code",
   "execution_count": null,
   "id": "c113c3fc-d0e8-420c-9b73-fa5a2ce6f49f",
   "metadata": {},
   "outputs": [],
   "source": []
  },
  {
   "cell_type": "markdown",
   "id": "298fc9f2-dbf5-4d25-9bbc-dcbe5a9b0c46",
   "metadata": {},
   "source": [
    "## 9. Generate a NumPy array of 100 random integers between 0 and 1000. Find and display all prime numbers in this array"
   ]
  },
  {
   "cell_type": "code",
   "execution_count": null,
   "id": "588bede3-20b8-4a4e-8798-367a414635dd",
   "metadata": {},
   "outputs": [],
   "source": []
  },
  {
   "cell_type": "code",
   "execution_count": null,
   "id": "959f9043-c1e3-4c70-b44c-498cb5c91dcd",
   "metadata": {},
   "outputs": [],
   "source": []
  },
  {
   "cell_type": "markdown",
   "id": "d5e1cfc0-028b-4260-9401-c83e74da0bd7",
   "metadata": {},
   "source": [
    "## 10. Create a NumPy array representing daily temperatures for a month. Calculate and display the weekly averages."
   ]
  },
  {
   "cell_type": "code",
   "execution_count": 9,
   "id": "4d855997-fc89-4be5-8e9f-f200f5465cf5",
   "metadata": {},
   "outputs": [
    {
     "name": "stdout",
     "output_type": "stream",
     "text": [
      "[26.5 30.5 30.5 25.5 21.5 17.5 13.5]\n"
     ]
    }
   ],
   "source": [
    "## code\n",
    "import numpy as np\n",
    "\n",
    "# Create a NumPy array of daily temperatures for a month (28 days for simplicity)\n",
    "daily_temperatures = np.array([25, 27, 26, 28, 30, 29, 31, 32, 33, 31, 30, 28, 27, 26, 25, 24, 23, 22, 21, 20, 19, 18, 17, 16, 15, 14, 13, 12])\n",
    "\n",
    "# Reshape the array to have 4 rows representing 4 weeks\n",
    "weekly_temperatures = daily_temperatures.reshape(7,4)\n",
    "\n",
    "# Calculate the weekly averages\n",
    "weekly_averages = np.mean(weekly_temperatures, axis=1)\n",
    "\n",
    "print(weekly_averages)"
   ]
  },
  {
   "cell_type": "code",
   "execution_count": null,
   "id": "0e7c8c3e-5fc5-45ac-b74d-ed107061276c",
   "metadata": {},
   "outputs": [],
   "source": []
  }
 ],
 "metadata": {
  "kernelspec": {
   "display_name": "Python 3 (ipykernel)",
   "language": "python",
   "name": "python3"
  },
  "language_info": {
   "codemirror_mode": {
    "name": "ipython",
    "version": 3
   },
   "file_extension": ".py",
   "mimetype": "text/x-python",
   "name": "python",
   "nbconvert_exporter": "python",
   "pygments_lexer": "ipython3",
   "version": "3.10.8"
  }
 },
 "nbformat": 4,
 "nbformat_minor": 5
}
